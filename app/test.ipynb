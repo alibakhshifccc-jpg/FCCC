{
 "cells": [
  {
   "cell_type": "code",
   "execution_count": null,
   "id": "ff90b156",
   "metadata": {},
   "outputs": [],
   "source": [
    "import torch  \n",
    "import tensorflow as tf \n",
    "import pandas as pd \n",
    "import numpy as np \n",
    "import os \n",
    "import cv2\n",
    "from pathlib import Path\n",
    "import torchvision"
   ]
  },
  {
   "cell_type": "code",
   "execution_count": 14,
   "id": "9d307bd2",
   "metadata": {},
   "outputs": [],
   "source": [
    "image_dir = Path(\"saved_frames\")"
   ]
  },
  {
   "cell_type": "code",
   "execution_count": 15,
   "id": "5cfc0f70",
   "metadata": {},
   "outputs": [],
   "source": [
    "image_paths = list(image_dir.glob(\"*.jpg\")) + list(image_dir.glob(\"*.png\"))"
   ]
  },
  {
   "cell_type": "code",
   "execution_count": 16,
   "id": "b174a417",
   "metadata": {},
   "outputs": [],
   "source": [
    "def load_and_preprocess_image(img_paths, target_size=(244,244)):\n",
    "    img = cv2.imread(str(img_paths))\n",
    "\n",
    "    img = cv2.cvtColor(img, cv2.COLOR_BGR2RGB)\n",
    "    \n",
    "    img = cv2.resize(img, target_size)\n",
    "    \n",
    "    img = img / 255.0\n",
    "    \n",
    "    return img \n",
    "\n"
   ]
  },
  {
   "cell_type": "code",
   "execution_count": 17,
   "id": "8145a55a",
   "metadata": {},
   "outputs": [],
   "source": [
    "images = [load_and_preprocess_image(img_path) for img_path in image_paths]\n",
    "images = np.array(images)"
   ]
  },
  {
   "cell_type": "code",
   "execution_count": 20,
   "id": "d6f13a6e",
   "metadata": {},
   "outputs": [],
   "source": [
    "dataset = tf.data.Dataset.from_tensor_slices(images)\n",
    "dataset = dataset.batch(32)  # Batch size of 32 for processing"
   ]
  },
  {
   "cell_type": "code",
   "execution_count": null,
   "id": "fd19e20e",
   "metadata": {},
   "outputs": [],
   "source": []
  },
  {
   "cell_type": "code",
   "execution_count": null,
   "id": "5304f614",
   "metadata": {},
   "outputs": [],
   "source": []
  }
 ],
 "metadata": {
  "kernelspec": {
   "display_name": "Python 3",
   "language": "python",
   "name": "python3"
  },
  "language_info": {
   "codemirror_mode": {
    "name": "ipython",
    "version": 3
   },
   "file_extension": ".py",
   "mimetype": "text/x-python",
   "name": "python",
   "nbconvert_exporter": "python",
   "pygments_lexer": "ipython3",
   "version": "3.13.7"
  }
 },
 "nbformat": 4,
 "nbformat_minor": 5
}
